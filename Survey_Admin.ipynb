{
 "cells": [
  {
   "cell_type": "code",
   "execution_count": 5,
   "metadata": {},
   "outputs": [],
   "source": [
    "# Initial Load of Survey Data Items\n",
    " \n",
    "import pandas as pd\n",
    "import shelve\n",
    "import random\n",
    "from surveyor import *\n",
    "\n",
    "def open_config():\n",
    "    config_file = 'config'\n",
    "    s = shelve.open(config_file, writeback=True)\n",
    "    return(s)\n",
    "\n",
    "def show_available_categories(s):\n",
    "    print(f\"{'-'*10}Available Categories{'-'*10}\")\n",
    "    for category in s['available_categories']:\n",
    "        print(category)\n",
    "    \n",
    "\n",
    "def add_category():\n",
    "    s = open_config()\n",
    "    print(f\"\\nFunction: Add Category\")\n",
    "    show_available_categories()\n",
    "    new_category = input(\"Type new category:\")\n",
    "    # You must set writeback to True when opening shelve to allow for writing of mutable list below\n",
    "    s['available_categories'].append(new_category)\n",
    "    print(f\"\\nCategory Added!\\n\")\n",
    "    show_available_categories()\n",
    "\n",
    "def delete_category():\n",
    "    s = open_config()\n",
    "    print(f\"\\nFunction: Delete Category\")\n",
    "    answer = makeChoice(list(s['available_categories']))\n",
    "    s['available_categories'].remove(s['available_categories'][answer])\n",
    "    \n",
    "    \n",
    "def show_question_list(s):\n",
    "    print(f\"List of Questions: \\n{s['question_list']}\")\n",
    "    \n",
    "def add_question(s):\n",
    "    df_questions = s['question_list']\n",
    "    answer_category = makeChoice(list(s['available_categories']))\n",
    "    answer_question = input(\"Type new question:\")\n",
    "    df_questions = df_questions.append([{'Index':random.randrange(1, 10**5), 'Category':s['available_categories'][answer_category], 'Question':answer_question}], ignore_index=True)\n",
    "    s['question_list'] = df_questions\n",
    "    \n",
    "    \n",
    "def reset_data():\n",
    "    answer = input(\"Do you want to reset all survey meta-data? (Y/N)\")\n",
    "    if answer == \"Y\":\n",
    "        print('Resetting....')\n",
    "        df_questions = pd.DataFrame(columns=['Index', 'Category', 'Question'])\n",
    "        df_questions = df_questions.append([{'Index': random.randrange(1, 10**5), 'Category':'Category 1', 'Question':'Do you like math?'}], ignore_index=True)\n",
    "        df_questions = df_questions.append([{'Index': random.randrange(1, 10**5), 'Category':'Category 1', 'Question':'Do you like english?'}], ignore_index=True)\n",
    "        df_questions = df_questions.append([{'Index': random.randrange(1, 10**5), 'Category':'Category 2', 'Question':'Do you like your teacher?'}], ignore_index=True)\n",
    "        df_questions = df_questions.append([{'Index': random.randrange(1, 10**5), 'Category':'Category 2', 'Question':'Do you like homework?'}], ignore_index=True)\n",
    "        df_questions = df_questions.append([{'Index': random.randrange(1, 10**5), 'Category':'Category 3', 'Question':'Do you like tests?'}], ignore_index=True)\n",
    "        \n",
    "        open_config()\n",
    "        s['teacher_list'] = ['Mrs. Oneil', 'Mr Cruz']\n",
    "        s['subject_list'] = ['English', 'Math', 'Science']\n",
    "        s['student_list'] = ['Joe Smith', 'Jane Doe', 'Adam Smith']\n",
    "        s['question_list'] = df_questions\n",
    "        s['available_categories'] = ['Category 1', 'Category 2', 'Category 3']\n",
    "        s.close()\n",
    "    else:\n",
    "        print('Resetting Cancelled')\n",
    "\n",
    "\n"
   ]
  },
  {
   "cell_type": "code",
   "execution_count": 6,
   "metadata": {},
   "outputs": [
    {
     "name": "stdout",
     "output_type": "stream",
     "text": [
      "List of Questions: \n",
      "   Index    Category                   Question\n",
      "0  23022  Category 1          Do you like math?\n",
      "1  73127  Category 1       Do you like english?\n",
      "2   6499  Category 2  Do you like your teacher?\n",
      "3  65713  Category 2      Do you like homework?\n",
      "4  99380  Category 3         Do you like tests?\n"
     ]
    }
   ],
   "source": [
    "\n",
    "s = open_config()\n",
    "\n",
    "show_question_list(s)\n"
   ]
  },
  {
   "cell_type": "code",
   "execution_count": null,
   "metadata": {},
   "outputs": [],
   "source": [
    "delete_category()"
   ]
  },
  {
   "cell_type": "code",
   "execution_count": null,
   "metadata": {},
   "outputs": [],
   "source": [
    "add_category()"
   ]
  },
  {
   "cell_type": "code",
   "execution_count": null,
   "metadata": {},
   "outputs": [],
   "source": [
    "add_question(s)"
   ]
  },
  {
   "cell_type": "code",
   "execution_count": 7,
   "metadata": {},
   "outputs": [
    {
     "name": "stdout",
     "output_type": "stream",
     "text": [
      "List of Questions: \n",
      "   Index    Category                   Question\n",
      "0  23022  Category 1          Do you like math?\n",
      "1  73127  Category 1       Do you like english?\n",
      "2   6499  Category 2  Do you like your teacher?\n",
      "3  65713  Category 2      Do you like homework?\n",
      "4  99380  Category 3         Do you like tests?\n"
     ]
    }
   ],
   "source": [
    "show_question_list(s)"
   ]
  },
  {
   "cell_type": "code",
   "execution_count": null,
   "metadata": {},
   "outputs": [],
   "source": [
    "reset_data()\n"
   ]
  },
  {
   "cell_type": "code",
   "execution_count": 1,
   "metadata": {},
   "outputs": [],
   "source": [
    "from surveyor import *"
   ]
  },
  {
   "cell_type": "code",
   "execution_count": 2,
   "metadata": {},
   "outputs": [],
   "source": [
    "import shelve\n",
    "mysurvey = Survey()"
   ]
  },
  {
   "cell_type": "code",
   "execution_count": 3,
   "metadata": {},
   "outputs": [
    {
     "name": "stdout",
     "output_type": "stream",
     "text": [
      "Teacher Selection------------------------------\n",
      "1: Mrs. Oneil\n",
      "2: Mr Cruz\n"
     ]
    },
    {
     "name": "stdin",
     "output_type": "stream",
     "text": [
      "Please enter the number of your choice from above:  2\n"
     ]
    },
    {
     "name": "stdout",
     "output_type": "stream",
     "text": [
      "You choose: Mr Cruz\n",
      "\n",
      "Subject Selection------------------------------\n",
      "1: English\n",
      "2: Math\n",
      "3: Science\n"
     ]
    },
    {
     "name": "stdin",
     "output_type": "stream",
     "text": [
      "Please enter the number of your choice from above:  2\n"
     ]
    },
    {
     "name": "stdout",
     "output_type": "stream",
     "text": [
      "You choose: Math\n",
      "\n",
      "Student Selection------------------------------\n",
      "1: Joe Smith\n",
      "2: Jane Doe\n",
      "3: Adam Smith\n"
     ]
    },
    {
     "name": "stdin",
     "output_type": "stream",
     "text": [
      "Please enter the number of your choice from above:  3\n"
     ]
    },
    {
     "name": "stdout",
     "output_type": "stream",
     "text": [
      "You choose: Adam Smith\n",
      "\n",
      "Grade Selection------------------------------\n",
      "1: Grade 1\n",
      "2: Grade 2\n",
      "3: Grade 3\n",
      "4: Grade 4\n",
      "5: Grade 5\n",
      "6: Grade 6\n",
      "7: Grade 7\n",
      "8: Grade 8\n",
      "9: Grade 9\n",
      "10: Grade 10\n",
      "11: Grade 11\n",
      "12: Grade 12\n"
     ]
    },
    {
     "name": "stdin",
     "output_type": "stream",
     "text": [
      "Please enter the number of your choice from above:  12\n"
     ]
    },
    {
     "name": "stdout",
     "output_type": "stream",
     "text": [
      "You choose: Grade 12\n"
     ]
    }
   ],
   "source": [
    "mysurvey.configure_survey()"
   ]
  },
  {
   "cell_type": "code",
   "execution_count": 4,
   "metadata": {},
   "outputs": [
    {
     "name": "stdout",
     "output_type": "stream",
     "text": [
      "\n",
      "\n",
      "Please select a value 1 to 5 for the following questions\n",
      "Do you like math?\n"
     ]
    },
    {
     "name": "stdin",
     "output_type": "stream",
     "text": [
      "Answer:  5\n"
     ]
    },
    {
     "name": "stdout",
     "output_type": "stream",
     "text": [
      "Do you like english?\n"
     ]
    },
    {
     "name": "stdin",
     "output_type": "stream",
     "text": [
      "Answer:  5\n"
     ]
    },
    {
     "name": "stdout",
     "output_type": "stream",
     "text": [
      "Do you like your teacher?\n"
     ]
    },
    {
     "name": "stdin",
     "output_type": "stream",
     "text": [
      "Answer:  5\n"
     ]
    },
    {
     "name": "stdout",
     "output_type": "stream",
     "text": [
      "Do you like homework?\n"
     ]
    },
    {
     "name": "stdin",
     "output_type": "stream",
     "text": [
      "Answer:  5\n"
     ]
    },
    {
     "name": "stdout",
     "output_type": "stream",
     "text": [
      "Do you like tests?\n"
     ]
    },
    {
     "name": "stdin",
     "output_type": "stream",
     "text": [
      "Answer:  1\n"
     ]
    },
    {
     "name": "stdout",
     "output_type": "stream",
     "text": [
      "No error\n"
     ]
    }
   ],
   "source": [
    "mysurvey.take_survey()"
   ]
  },
  {
   "cell_type": "code",
   "execution_count": 6,
   "metadata": {},
   "outputs": [
    {
     "data": {
      "text/html": [
       "<div>\n",
       "<style scoped>\n",
       "    .dataframe tbody tr th:only-of-type {\n",
       "        vertical-align: middle;\n",
       "    }\n",
       "\n",
       "    .dataframe tbody tr th {\n",
       "        vertical-align: top;\n",
       "    }\n",
       "\n",
       "    .dataframe thead th {\n",
       "        text-align: right;\n",
       "    }\n",
       "</style>\n",
       "<table border=\"1\" class=\"dataframe\">\n",
       "  <thead>\n",
       "    <tr style=\"text-align: right;\">\n",
       "      <th></th>\n",
       "      <th>Index</th>\n",
       "      <th>Category</th>\n",
       "      <th>Question</th>\n",
       "      <th>Answer</th>\n",
       "      <th>Date Administered</th>\n",
       "      <th>Student</th>\n",
       "      <th>Teacher</th>\n",
       "      <th>Subject</th>\n",
       "      <th>Grade</th>\n",
       "    </tr>\n",
       "  </thead>\n",
       "  <tbody>\n",
       "    <tr>\n",
       "      <td>0</td>\n",
       "      <td>56391</td>\n",
       "      <td>Category 1</td>\n",
       "      <td>Do you like math?</td>\n",
       "      <td>1</td>\n",
       "      <td>2019-11-16 15:50:09.794995</td>\n",
       "      <td>Joe Smith</td>\n",
       "      <td>Mrs. Oneil</td>\n",
       "      <td>English</td>\n",
       "      <td>Grade 10</td>\n",
       "    </tr>\n",
       "    <tr>\n",
       "      <td>1</td>\n",
       "      <td>96574</td>\n",
       "      <td>Category 1</td>\n",
       "      <td>Do you like english?</td>\n",
       "      <td>2</td>\n",
       "      <td>2019-11-16 15:50:10.352036</td>\n",
       "      <td>Joe Smith</td>\n",
       "      <td>Mrs. Oneil</td>\n",
       "      <td>English</td>\n",
       "      <td>Grade 10</td>\n",
       "    </tr>\n",
       "    <tr>\n",
       "      <td>2</td>\n",
       "      <td>77702</td>\n",
       "      <td>Category 2</td>\n",
       "      <td>Do you like your teacher?</td>\n",
       "      <td>3</td>\n",
       "      <td>2019-11-16 15:50:10.859822</td>\n",
       "      <td>Joe Smith</td>\n",
       "      <td>Mrs. Oneil</td>\n",
       "      <td>English</td>\n",
       "      <td>Grade 10</td>\n",
       "    </tr>\n",
       "    <tr>\n",
       "      <td>3</td>\n",
       "      <td>59721</td>\n",
       "      <td>Category 2</td>\n",
       "      <td>Do you like homework?</td>\n",
       "      <td>4</td>\n",
       "      <td>2019-11-16 15:50:11.295939</td>\n",
       "      <td>Joe Smith</td>\n",
       "      <td>Mrs. Oneil</td>\n",
       "      <td>English</td>\n",
       "      <td>Grade 10</td>\n",
       "    </tr>\n",
       "    <tr>\n",
       "      <td>4</td>\n",
       "      <td>38359</td>\n",
       "      <td>Category 3</td>\n",
       "      <td>Do you like tests?</td>\n",
       "      <td>5</td>\n",
       "      <td>2019-11-16 15:50:11.832788</td>\n",
       "      <td>Joe Smith</td>\n",
       "      <td>Mrs. Oneil</td>\n",
       "      <td>English</td>\n",
       "      <td>Grade 10</td>\n",
       "    </tr>\n",
       "    <tr>\n",
       "      <td>0</td>\n",
       "      <td>56391</td>\n",
       "      <td>Category 1</td>\n",
       "      <td>Do you like math?</td>\n",
       "      <td>1</td>\n",
       "      <td>2019-11-16 18:10:52.894847</td>\n",
       "      <td>Joe Smith</td>\n",
       "      <td>Mrs. Oneil</td>\n",
       "      <td>English</td>\n",
       "      <td>Grade 10</td>\n",
       "    </tr>\n",
       "    <tr>\n",
       "      <td>1</td>\n",
       "      <td>96574</td>\n",
       "      <td>Category 1</td>\n",
       "      <td>Do you like english?</td>\n",
       "      <td>1</td>\n",
       "      <td>2019-11-16 18:10:53.453625</td>\n",
       "      <td>Joe Smith</td>\n",
       "      <td>Mrs. Oneil</td>\n",
       "      <td>English</td>\n",
       "      <td>Grade 10</td>\n",
       "    </tr>\n",
       "    <tr>\n",
       "      <td>2</td>\n",
       "      <td>77702</td>\n",
       "      <td>Category 2</td>\n",
       "      <td>Do you like your teacher?</td>\n",
       "      <td>1</td>\n",
       "      <td>2019-11-16 18:10:54.172920</td>\n",
       "      <td>Joe Smith</td>\n",
       "      <td>Mrs. Oneil</td>\n",
       "      <td>English</td>\n",
       "      <td>Grade 10</td>\n",
       "    </tr>\n",
       "    <tr>\n",
       "      <td>3</td>\n",
       "      <td>59721</td>\n",
       "      <td>Category 2</td>\n",
       "      <td>Do you like homework?</td>\n",
       "      <td>1</td>\n",
       "      <td>2019-11-16 18:10:54.973630</td>\n",
       "      <td>Joe Smith</td>\n",
       "      <td>Mrs. Oneil</td>\n",
       "      <td>English</td>\n",
       "      <td>Grade 10</td>\n",
       "    </tr>\n",
       "    <tr>\n",
       "      <td>4</td>\n",
       "      <td>38359</td>\n",
       "      <td>Category 3</td>\n",
       "      <td>Do you like tests?</td>\n",
       "      <td>5</td>\n",
       "      <td>2019-11-16 18:10:56.285549</td>\n",
       "      <td>Joe Smith</td>\n",
       "      <td>Mrs. Oneil</td>\n",
       "      <td>English</td>\n",
       "      <td>Grade 10</td>\n",
       "    </tr>\n",
       "    <tr>\n",
       "      <td>0</td>\n",
       "      <td>56391</td>\n",
       "      <td>Category 1</td>\n",
       "      <td>Do you like math?</td>\n",
       "      <td>5</td>\n",
       "      <td>2019-11-16 18:12:43.309824</td>\n",
       "      <td>Adam Smith</td>\n",
       "      <td>Mr Cruz</td>\n",
       "      <td>Math</td>\n",
       "      <td>Grade 12</td>\n",
       "    </tr>\n",
       "    <tr>\n",
       "      <td>1</td>\n",
       "      <td>96574</td>\n",
       "      <td>Category 1</td>\n",
       "      <td>Do you like english?</td>\n",
       "      <td>5</td>\n",
       "      <td>2019-11-16 18:12:43.874207</td>\n",
       "      <td>Adam Smith</td>\n",
       "      <td>Mr Cruz</td>\n",
       "      <td>Math</td>\n",
       "      <td>Grade 12</td>\n",
       "    </tr>\n",
       "    <tr>\n",
       "      <td>2</td>\n",
       "      <td>77702</td>\n",
       "      <td>Category 2</td>\n",
       "      <td>Do you like your teacher?</td>\n",
       "      <td>5</td>\n",
       "      <td>2019-11-16 18:12:44.455545</td>\n",
       "      <td>Adam Smith</td>\n",
       "      <td>Mr Cruz</td>\n",
       "      <td>Math</td>\n",
       "      <td>Grade 12</td>\n",
       "    </tr>\n",
       "    <tr>\n",
       "      <td>3</td>\n",
       "      <td>59721</td>\n",
       "      <td>Category 2</td>\n",
       "      <td>Do you like homework?</td>\n",
       "      <td>5</td>\n",
       "      <td>2019-11-16 18:12:45.022830</td>\n",
       "      <td>Adam Smith</td>\n",
       "      <td>Mr Cruz</td>\n",
       "      <td>Math</td>\n",
       "      <td>Grade 12</td>\n",
       "    </tr>\n",
       "    <tr>\n",
       "      <td>4</td>\n",
       "      <td>38359</td>\n",
       "      <td>Category 3</td>\n",
       "      <td>Do you like tests?</td>\n",
       "      <td>1</td>\n",
       "      <td>2019-11-16 18:12:45.965543</td>\n",
       "      <td>Adam Smith</td>\n",
       "      <td>Mr Cruz</td>\n",
       "      <td>Math</td>\n",
       "      <td>Grade 12</td>\n",
       "    </tr>\n",
       "    <tr>\n",
       "      <td>0</td>\n",
       "      <td>56391</td>\n",
       "      <td>Category 1</td>\n",
       "      <td>Do you like math?</td>\n",
       "      <td>5</td>\n",
       "      <td>2019-11-16 18:23:41.096871</td>\n",
       "      <td>Adam Smith</td>\n",
       "      <td>Mr Cruz</td>\n",
       "      <td>Math</td>\n",
       "      <td>Grade 12</td>\n",
       "    </tr>\n",
       "    <tr>\n",
       "      <td>1</td>\n",
       "      <td>96574</td>\n",
       "      <td>Category 1</td>\n",
       "      <td>Do you like english?</td>\n",
       "      <td>5</td>\n",
       "      <td>2019-11-16 18:23:41.682737</td>\n",
       "      <td>Adam Smith</td>\n",
       "      <td>Mr Cruz</td>\n",
       "      <td>Math</td>\n",
       "      <td>Grade 12</td>\n",
       "    </tr>\n",
       "    <tr>\n",
       "      <td>2</td>\n",
       "      <td>77702</td>\n",
       "      <td>Category 2</td>\n",
       "      <td>Do you like your teacher?</td>\n",
       "      <td>5</td>\n",
       "      <td>2019-11-16 18:23:42.219298</td>\n",
       "      <td>Adam Smith</td>\n",
       "      <td>Mr Cruz</td>\n",
       "      <td>Math</td>\n",
       "      <td>Grade 12</td>\n",
       "    </tr>\n",
       "    <tr>\n",
       "      <td>3</td>\n",
       "      <td>59721</td>\n",
       "      <td>Category 2</td>\n",
       "      <td>Do you like homework?</td>\n",
       "      <td>5</td>\n",
       "      <td>2019-11-16 18:23:42.780442</td>\n",
       "      <td>Adam Smith</td>\n",
       "      <td>Mr Cruz</td>\n",
       "      <td>Math</td>\n",
       "      <td>Grade 12</td>\n",
       "    </tr>\n",
       "    <tr>\n",
       "      <td>4</td>\n",
       "      <td>38359</td>\n",
       "      <td>Category 3</td>\n",
       "      <td>Do you like tests?</td>\n",
       "      <td>1</td>\n",
       "      <td>2019-11-16 18:23:43.941610</td>\n",
       "      <td>Adam Smith</td>\n",
       "      <td>Mr Cruz</td>\n",
       "      <td>Math</td>\n",
       "      <td>Grade 12</td>\n",
       "    </tr>\n",
       "  </tbody>\n",
       "</table>\n",
       "</div>"
      ],
      "text/plain": [
       "   Index    Category                   Question Answer  \\\n",
       "0  56391  Category 1          Do you like math?      1   \n",
       "1  96574  Category 1       Do you like english?      2   \n",
       "2  77702  Category 2  Do you like your teacher?      3   \n",
       "3  59721  Category 2      Do you like homework?      4   \n",
       "4  38359  Category 3         Do you like tests?      5   \n",
       "0  56391  Category 1          Do you like math?      1   \n",
       "1  96574  Category 1       Do you like english?      1   \n",
       "2  77702  Category 2  Do you like your teacher?      1   \n",
       "3  59721  Category 2      Do you like homework?      1   \n",
       "4  38359  Category 3         Do you like tests?      5   \n",
       "0  56391  Category 1          Do you like math?      5   \n",
       "1  96574  Category 1       Do you like english?      5   \n",
       "2  77702  Category 2  Do you like your teacher?      5   \n",
       "3  59721  Category 2      Do you like homework?      5   \n",
       "4  38359  Category 3         Do you like tests?      1   \n",
       "0  56391  Category 1          Do you like math?      5   \n",
       "1  96574  Category 1       Do you like english?      5   \n",
       "2  77702  Category 2  Do you like your teacher?      5   \n",
       "3  59721  Category 2      Do you like homework?      5   \n",
       "4  38359  Category 3         Do you like tests?      1   \n",
       "\n",
       "            Date Administered     Student     Teacher  Subject     Grade  \n",
       "0  2019-11-16 15:50:09.794995   Joe Smith  Mrs. Oneil  English  Grade 10  \n",
       "1  2019-11-16 15:50:10.352036   Joe Smith  Mrs. Oneil  English  Grade 10  \n",
       "2  2019-11-16 15:50:10.859822   Joe Smith  Mrs. Oneil  English  Grade 10  \n",
       "3  2019-11-16 15:50:11.295939   Joe Smith  Mrs. Oneil  English  Grade 10  \n",
       "4  2019-11-16 15:50:11.832788   Joe Smith  Mrs. Oneil  English  Grade 10  \n",
       "0  2019-11-16 18:10:52.894847   Joe Smith  Mrs. Oneil  English  Grade 10  \n",
       "1  2019-11-16 18:10:53.453625   Joe Smith  Mrs. Oneil  English  Grade 10  \n",
       "2  2019-11-16 18:10:54.172920   Joe Smith  Mrs. Oneil  English  Grade 10  \n",
       "3  2019-11-16 18:10:54.973630   Joe Smith  Mrs. Oneil  English  Grade 10  \n",
       "4  2019-11-16 18:10:56.285549   Joe Smith  Mrs. Oneil  English  Grade 10  \n",
       "0  2019-11-16 18:12:43.309824  Adam Smith     Mr Cruz     Math  Grade 12  \n",
       "1  2019-11-16 18:12:43.874207  Adam Smith     Mr Cruz     Math  Grade 12  \n",
       "2  2019-11-16 18:12:44.455545  Adam Smith     Mr Cruz     Math  Grade 12  \n",
       "3  2019-11-16 18:12:45.022830  Adam Smith     Mr Cruz     Math  Grade 12  \n",
       "4  2019-11-16 18:12:45.965543  Adam Smith     Mr Cruz     Math  Grade 12  \n",
       "0  2019-11-16 18:23:41.096871  Adam Smith     Mr Cruz     Math  Grade 12  \n",
       "1  2019-11-16 18:23:41.682737  Adam Smith     Mr Cruz     Math  Grade 12  \n",
       "2  2019-11-16 18:23:42.219298  Adam Smith     Mr Cruz     Math  Grade 12  \n",
       "3  2019-11-16 18:23:42.780442  Adam Smith     Mr Cruz     Math  Grade 12  \n",
       "4  2019-11-16 18:23:43.941610  Adam Smith     Mr Cruz     Math  Grade 12  "
      ]
     },
     "metadata": {},
     "output_type": "display_data"
    }
   ],
   "source": [
    "display(mysurvey.survey_answers)"
   ]
  },
  {
   "cell_type": "code",
   "execution_count": null,
   "metadata": {},
   "outputs": [],
   "source": []
  }
 ],
 "metadata": {
  "kernelspec": {
   "display_name": "Python 3",
   "language": "python",
   "name": "python3"
  },
  "language_info": {
   "codemirror_mode": {
    "name": "ipython",
    "version": 3
   },
   "file_extension": ".py",
   "mimetype": "text/x-python",
   "name": "python",
   "nbconvert_exporter": "python",
   "pygments_lexer": "ipython3",
   "version": "3.7.4"
  }
 },
 "nbformat": 4,
 "nbformat_minor": 4
}
